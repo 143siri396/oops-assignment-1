{
 "cells": [
  {
   "cell_type": "code",
   "execution_count": 1,
   "id": "b677d71d",
   "metadata": {},
   "outputs": [
    {
     "data": {
      "text/plain": [
       "120"
      ]
     },
     "execution_count": 1,
     "metadata": {},
     "output_type": "execute_result"
    }
   ],
   "source": [
    "def factor(n):\n",
    "    if n==0 or n==1:\n",
    "        return 1\n",
    "    else:\n",
    "        return n*factor(n-1)\n",
    "factor(5)    \n",
    "    "
   ]
  },
  {
   "cell_type": "code",
   "execution_count": 4,
   "id": "e4721b45",
   "metadata": {},
   "outputs": [
    {
     "name": "stdout",
     "output_type": "stream",
     "text": [
      "The string is containing the letter 's'\n",
      "The string doesn’t contain the letter 's'\n"
     ]
    }
   ],
   "source": [
    "def check_string(user_input):\n",
    "    if 's' in user_input:\n",
    "        print(\"The string is containing the letter 's'\")\n",
    "    else:\n",
    "        print(\"The string doesn’t contain the letter 's'\")\n",
    "check_string(\"sun\")      \n",
    "check_string(\"moon\")     "
   ]
  },
  {
   "cell_type": "code",
   "execution_count": 5,
   "id": "c1639392",
   "metadata": {},
   "outputs": [
    {
     "name": "stdout",
     "output_type": "stream",
     "text": [
      "The user-defined input is: Hello, world!\n"
     ]
    }
   ],
   "source": [
    "class student:\n",
    "    def fun1(self, value):\n",
    "        self.data = value\n",
    "        return self.data\n",
    "\n",
    "    def message(self):\n",
    "        print(f\"The user-defined input is: {self.data}\")\n",
    "s = student()\n",
    "s.fun1(\"Hello, world!\")   \n",
    "s.message()  "
   ]
  },
  {
   "cell_type": "code",
   "execution_count": 6,
   "id": "df80247e",
   "metadata": {},
   "outputs": [
    {
     "name": "stdout",
     "output_type": "stream",
     "text": [
      "4\n"
     ]
    }
   ],
   "source": [
    "double_num = lambda x: x * 2\n",
    "result=double_num(2)\n",
    "print(result)"
   ]
  },
  {
   "cell_type": "code",
   "execution_count": 7,
   "id": "f071bc58",
   "metadata": {},
   "outputs": [
    {
     "name": "stdout",
     "output_type": "stream",
     "text": [
      "Enter a string: mom\n",
      "The string is a palindrome.\n"
     ]
    }
   ],
   "source": [
    "def check_palindrome():\n",
    "    user_input = input(\"Enter a string: \")\n",
    "    cleaned_input = user_input.replace(\" \", \"\").lower()  \n",
    "    if cleaned_input == cleaned_input[::-1]:\n",
    "        print(\"The string is a palindrome.\")\n",
    "    else:\n",
    "        print(\"The string is not a palindrome.\")\n",
    "check_palindrome()"
   ]
  }
 ],
 "metadata": {
  "kernelspec": {
   "display_name": "Python 3 (ipykernel)",
   "language": "python",
   "name": "python3"
  },
  "language_info": {
   "codemirror_mode": {
    "name": "ipython",
    "version": 3
   },
   "file_extension": ".py",
   "mimetype": "text/x-python",
   "name": "python",
   "nbconvert_exporter": "python",
   "pygments_lexer": "ipython3",
   "version": "3.11.5"
  }
 },
 "nbformat": 4,
 "nbformat_minor": 5
}
